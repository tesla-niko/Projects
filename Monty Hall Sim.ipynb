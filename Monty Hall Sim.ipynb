{
 "cells": [
  {
   "cell_type": "markdown",
   "id": "8d2b1c12",
   "metadata": {},
   "source": [
    "### Monty Hall Problem Simulation : \n",
    " Assume that a room is equipped with three doors. Two are empty(or say have goats) , and behind the third is a shiny new car. You are asked to pick a door, and will win whatever is behind it. Let's say you pick door 1. Before the door is opened, however, the host (Monty Hall) who knows what's behind the doors opens one of the other two doors, revealing that it is empty, and asks you if you wish to change your selection to the third door (i.e., the door which neither you picked nor he opened). The Monty Hall problem is deciding whether you do.  \n",
    "The problem can be extended to n doors with a car in one of the n doors. "
   ]
  },
  {
   "cell_type": "code",
   "execution_count": 9,
   "id": "d85e1642",
   "metadata": {},
   "outputs": [],
   "source": [
    "import random\n",
    "\n",
    "class MontyShow:\n",
    "    def __init__(self, number_of_doors, trials):\n",
    "        self.num_doors = number_of_doors\n",
    "        self.num_trials = trials\n",
    "        self.switch = 0     # To store probability to switch\n",
    "        self.stay = 0       # Probability if we don't switch\n",
    "\n",
    "    def simulate(self):\n",
    "        for i in range(self.num_trials):\n",
    "            doors = [x for x in range(self.num_doors)]\n",
    "\n",
    "            # We randomly place the car behind one of the doors\n",
    "            car_door = random.choice(doors)\n",
    "\n",
    "            # Player randomly picks a door\n",
    "            player_choice = random.choice(doors)\n",
    "\n",
    "            # Host reveals a door that isn't the car and isn't the player's choice\n",
    "            host_options = [door for door in doors if door != car_door and door != player_choice]\n",
    "            revealed_door = random.choice(host_options)\n",
    "\n",
    "            # If Player switches door\n",
    "            switch_options = [door for door in doors if door != player_choice]\n",
    "            switch_options.remove(revealed_door)\n",
    "\n",
    "            if car_door in switch_options:\n",
    "                self.switch += 1\n",
    "\n",
    "            if player_choice == car_door:\n",
    "                self.stay += 1\n",
    "\n",
    "        self.switch /= self.num_trials\n",
    "        self.stay /= self.num_trials\n",
    "\n",
    "        self.print_probab()\n",
    "\n",
    "    def print_probab(self):\n",
    "        print(\"Probability of winning, if player switches:\", self.switch)\n",
    "        print(\"Probability of winning, if the player does not switch:\", self.stay)\n"
   ]
  },
  {
   "cell_type": "code",
   "execution_count": 16,
   "id": "2dca6874",
   "metadata": {},
   "outputs": [
    {
     "name": "stdout",
     "output_type": "stream",
     "text": [
      "Probability of winning, if player switches: 0.668\n",
      "Probability of winning, if the player does not switch: 0.332\n"
     ]
    }
   ],
   "source": [
    "# Game1 with 3 doors, we take 10000 trials:   (Calculated Probability should be 2/3)\n",
    "game1 = MontyShow(3, 1000)  \n",
    "game1.simulate()  \n"
   ]
  },
  {
   "cell_type": "code",
   "execution_count": 18,
   "id": "6808a758",
   "metadata": {},
   "outputs": [
    {
     "name": "stdout",
     "output_type": "stream",
     "text": [
      "Probability of winning, if player switches: 0.9904\n",
      "Probability of winning, if the player does not switch: 0.0096\n"
     ]
    }
   ],
   "source": [
    "#Game2 with 100 doors, we take 100 trials  (Expected probability should be 99/100)\n",
    "game2 = MontyShow(100, 10000)  \n",
    "game2.simulate()  "
   ]
  },
  {
   "cell_type": "markdown",
   "id": "dcaa640b",
   "metadata": {},
   "source": [
    "We can see that the probability initially is 1/n, say if n doors are given. The probabilty of the car being in other n-1 doors is P= (n-1)/100. \n",
    "Now if the host reveals all but one door from n-1 remaining doors, The probability P concentrates to that one remaining door, since others are guaranteed to not contain the car(since revealed) \n",
    "Therefore it is always better to switch whatever number of doors may be. "
   ]
  }
 ],
 "metadata": {
  "kernelspec": {
   "display_name": "Python 3 (ipykernel)",
   "language": "python",
   "name": "python3"
  },
  "language_info": {
   "codemirror_mode": {
    "name": "ipython",
    "version": 3
   },
   "file_extension": ".py",
   "mimetype": "text/x-python",
   "name": "python",
   "nbconvert_exporter": "python",
   "pygments_lexer": "ipython3",
   "version": "3.9.13"
  }
 },
 "nbformat": 4,
 "nbformat_minor": 5
}
